{
 "metadata": {
  "kernelspec": {
   "language": "python",
   "display_name": "Python 3",
   "name": "python3"
  },
  "language_info": {
   "name": "python",
   "version": "3.10.10",
   "mimetype": "text/x-python",
   "codemirror_mode": {
    "name": "ipython",
    "version": 3
   },
   "pygments_lexer": "ipython3",
   "nbconvert_exporter": "python",
   "file_extension": ".py"
  }
 },
 "nbformat_minor": 4,
 "nbformat": 4,
 "cells": [
  {
   "cell_type": "code",
   "source": [
    "!nvidia-smi"
   ],
   "metadata": {
    "execution": {
     "iopub.status.busy": "2023-09-22T04:33:27.360456Z",
     "iopub.execute_input": "2023-09-22T04:33:27.361039Z",
     "iopub.status.idle": "2023-09-22T04:33:28.363842Z",
     "shell.execute_reply.started": "2023-09-22T04:33:27.361009Z",
     "shell.execute_reply": "2023-09-22T04:33:28.362575Z"
    },
    "trusted": true
   },
   "execution_count": 1,
   "outputs": [
    {
     "name": "stdout",
     "text": "Fri Sep 22 04:33:28 2023       \n+-----------------------------------------------------------------------------+\n| NVIDIA-SMI 470.161.03   Driver Version: 470.161.03   CUDA Version: 11.4     |\n|-------------------------------+----------------------+----------------------+\n| GPU  Name        Persistence-M| Bus-Id        Disp.A | Volatile Uncorr. ECC |\n| Fan  Temp  Perf  Pwr:Usage/Cap|         Memory-Usage | GPU-Util  Compute M. |\n|                               |                      |               MIG M. |\n|===============================+======================+======================|\n|   0  Tesla P100-PCIE...  Off  | 00000000:00:04.0 Off |                    0 |\n| N/A   37C    P0    27W / 250W |      0MiB / 16280MiB |      0%      Default |\n|                               |                      |                  N/A |\n+-------------------------------+----------------------+----------------------+\n                                                                               \n+-----------------------------------------------------------------------------+\n| Processes:                                                                  |\n|  GPU   GI   CI        PID   Type   Process name                  GPU Memory |\n|        ID   ID                                                   Usage      |\n|=============================================================================|\n|  No running processes found                                                 |\n+-----------------------------------------------------------------------------+\n",
     "output_type": "stream"
    }
   ]
  },
  {
   "cell_type": "code",
   "source": [
    "%%capture\n",
    "!pip install torchmetrics mlxtend torchinfo"
   ],
   "metadata": {
    "execution": {
     "iopub.status.busy": "2023-09-22T04:33:28.366452Z",
     "iopub.execute_input": "2023-09-22T04:33:28.367178Z",
     "iopub.status.idle": "2023-09-22T04:33:42.095919Z",
     "shell.execute_reply.started": "2023-09-22T04:33:28.367137Z",
     "shell.execute_reply": "2023-09-22T04:33:42.094684Z"
    },
    "trusted": true
   },
   "execution_count": 2,
   "outputs": []
  },
  {
   "cell_type": "markdown",
   "source": [
    "# Import Libraries"
   ],
   "metadata": {}
  },
  {
   "cell_type": "code",
   "source": [
    "import torch\n",
    "from torch import nn\n",
    "import torchvision\n",
    "from torchvision import datasets\n",
    "from torchvision.transforms import ToTensor\n",
    "from torch.utils.data import DataLoader\n",
    "from torchinfo import summary\n",
    "\n",
    "from torchmetrics import ConfusionMatrix\n",
    "from mlxtend.plotting import plot_confusion_matrix\n",
    "\n",
    "import random\n",
    "import pandas as pd\n",
    "from pathlib import Path\n",
    "from tqdm.auto import trange,tqdm\n",
    "import matplotlib.pyplot as plt\n",
    "from timeit import default_timer as timer"
   ],
   "metadata": {
    "execution": {
     "iopub.status.busy": "2023-09-22T04:33:42.097585Z",
     "iopub.execute_input": "2023-09-22T04:33:42.098265Z",
     "iopub.status.idle": "2023-09-22T04:33:54.932682Z",
     "shell.execute_reply.started": "2023-09-22T04:33:42.098227Z",
     "shell.execute_reply": "2023-09-22T04:33:54.931708Z"
    },
    "trusted": true
   },
   "execution_count": 3,
   "outputs": [
    {
     "name": "stderr",
     "text": "/opt/conda/lib/python3.10/site-packages/tensorflow_io/python/ops/__init__.py:98: UserWarning: unable to load libtensorflow_io_plugins.so: unable to open file: libtensorflow_io_plugins.so, from paths: ['/opt/conda/lib/python3.10/site-packages/tensorflow_io/python/ops/libtensorflow_io_plugins.so']\ncaused by: ['/opt/conda/lib/python3.10/site-packages/tensorflow_io/python/ops/libtensorflow_io_plugins.so: undefined symbol: _ZN3tsl6StatusC1EN10tensorflow5error4CodeESt17basic_string_viewIcSt11char_traitsIcEENS_14SourceLocationE']\n  warnings.warn(f\"unable to load libtensorflow_io_plugins.so: {e}\")\n/opt/conda/lib/python3.10/site-packages/tensorflow_io/python/ops/__init__.py:104: UserWarning: file system plugins are not loaded: unable to open file: libtensorflow_io.so, from paths: ['/opt/conda/lib/python3.10/site-packages/tensorflow_io/python/ops/libtensorflow_io.so']\ncaused by: ['/opt/conda/lib/python3.10/site-packages/tensorflow_io/python/ops/libtensorflow_io.so: undefined symbol: _ZTVN10tensorflow13GcsFileSystemE']\n  warnings.warn(f\"file system plugins are not loaded: {e}\")\n",
     "output_type": "stream"
    }
   ]
  },
  {
   "cell_type": "markdown",
   "source": [
    "# FashionMNIST Dataset\n",
    "> Dataset : https://pytorch.org/vision/stable/generated/torchvision.datasets.FashionMNIST.html"
   ],
   "metadata": {}
  },
  {
   "cell_type": "markdown",
   "source": [
    "### Download Dataset   \n",
    "- Download train and test sets.\n",
    "- Apply transformations to image data."
   ],
   "metadata": {}
  },
  {
   "cell_type": "code",
   "source": [
    "train_data = datasets.FashionMNIST(root='data',\n",
    "                                  train=True,\n",
    "                                  transform=ToTensor(),\n",
    "                                  download=True)\n",
    "test_data = datasets.FashionMNIST(root='data', \n",
    "                                train=False,\n",
    "                                transform=ToTensor(),\n",
    "                                download=True)"
   ],
   "metadata": {
    "execution": {
     "iopub.status.busy": "2023-09-22T04:33:54.935090Z",
     "iopub.execute_input": "2023-09-22T04:33:54.935370Z",
     "iopub.status.idle": "2023-09-22T04:34:04.275117Z",
     "shell.execute_reply.started": "2023-09-22T04:33:54.935347Z",
     "shell.execute_reply": "2023-09-22T04:34:04.274159Z"
    },
    "trusted": true
   },
   "execution_count": 4,
   "outputs": [
    {
     "name": "stdout",
     "text": "Downloading http://fashion-mnist.s3-website.eu-central-1.amazonaws.com/train-images-idx3-ubyte.gz\nDownloading http://fashion-mnist.s3-website.eu-central-1.amazonaws.com/train-images-idx3-ubyte.gz to data/FashionMNIST/raw/train-images-idx3-ubyte.gz\n",
     "output_type": "stream"
    },
    {
     "name": "stderr",
     "text": "100%|██████████| 26421880/26421880 [00:02<00:00, 8828759.51it/s] \n",
     "output_type": "stream"
    },
    {
     "name": "stdout",
     "text": "Extracting data/FashionMNIST/raw/train-images-idx3-ubyte.gz to data/FashionMNIST/raw\n\nDownloading http://fashion-mnist.s3-website.eu-central-1.amazonaws.com/train-labels-idx1-ubyte.gz\nDownloading http://fashion-mnist.s3-website.eu-central-1.amazonaws.com/train-labels-idx1-ubyte.gz to data/FashionMNIST/raw/train-labels-idx1-ubyte.gz\n",
     "output_type": "stream"
    },
    {
     "name": "stderr",
     "text": "100%|██████████| 29515/29515 [00:00<00:00, 134969.55it/s]\n",
     "output_type": "stream"
    },
    {
     "name": "stdout",
     "text": "Extracting data/FashionMNIST/raw/train-labels-idx1-ubyte.gz to data/FashionMNIST/raw\n\nDownloading http://fashion-mnist.s3-website.eu-central-1.amazonaws.com/t10k-images-idx3-ubyte.gz\nDownloading http://fashion-mnist.s3-website.eu-central-1.amazonaws.com/t10k-images-idx3-ubyte.gz to data/FashionMNIST/raw/t10k-images-idx3-ubyte.gz\n",
     "output_type": "stream"
    },
    {
     "name": "stderr",
     "text": "100%|██████████| 4422102/4422102 [00:01<00:00, 2668005.41it/s]\n",
     "output_type": "stream"
    },
    {
     "name": "stdout",
     "text": "Extracting data/FashionMNIST/raw/t10k-images-idx3-ubyte.gz to data/FashionMNIST/raw\n\nDownloading http://fashion-mnist.s3-website.eu-central-1.amazonaws.com/t10k-labels-idx1-ubyte.gz\nDownloading http://fashion-mnist.s3-website.eu-central-1.amazonaws.com/t10k-labels-idx1-ubyte.gz to data/FashionMNIST/raw/t10k-labels-idx1-ubyte.gz\n",
     "output_type": "stream"
    },
    {
     "name": "stderr",
     "text": "100%|██████████| 5148/5148 [00:00<00:00, 9038207.20it/s]",
     "output_type": "stream"
    },
    {
     "name": "stdout",
     "text": "Extracting data/FashionMNIST/raw/t10k-labels-idx1-ubyte.gz to data/FashionMNIST/raw\n\n",
     "output_type": "stream"
    },
    {
     "name": "stderr",
     "text": "\n",
     "output_type": "stream"
    }
   ]
  },
  {
   "cell_type": "code",
   "source": [
    "len(train_data), len(test_data)"
   ],
   "metadata": {
    "execution": {
     "iopub.status.busy": "2023-09-22T04:34:04.276509Z",
     "iopub.execute_input": "2023-09-22T04:34:04.277078Z",
     "iopub.status.idle": "2023-09-22T04:34:04.287647Z",
     "shell.execute_reply.started": "2023-09-22T04:34:04.277043Z",
     "shell.execute_reply": "2023-09-22T04:34:04.286731Z"
    },
    "trusted": true
   },
   "execution_count": 5,
   "outputs": [
    {
     "execution_count": 5,
     "output_type": "execute_result",
     "data": {
      "text/plain": "(60000, 10000)"
     },
     "metadata": {}
    }
   ]
  },
  {
   "cell_type": "markdown",
   "source": [
    "### Dataset Classes\n",
    "- FashionMNIST dataset has 10 classes of apparel."
   ],
   "metadata": {}
  },
  {
   "cell_type": "code",
   "source": [
    "class_names = train_data.classes\n",
    "class_names"
   ],
   "metadata": {
    "execution": {
     "iopub.status.busy": "2023-09-22T04:34:04.288652Z",
     "iopub.execute_input": "2023-09-22T04:34:04.289273Z",
     "iopub.status.idle": "2023-09-22T04:34:04.309410Z",
     "shell.execute_reply.started": "2023-09-22T04:34:04.289239Z",
     "shell.execute_reply": "2023-09-22T04:34:04.308449Z"
    },
    "trusted": true
   },
   "execution_count": 6,
   "outputs": [
    {
     "execution_count": 6,
     "output_type": "execute_result",
     "data": {
      "text/plain": "['T-shirt/top',\n 'Trouser',\n 'Pullover',\n 'Dress',\n 'Coat',\n 'Sandal',\n 'Shirt',\n 'Sneaker',\n 'Bag',\n 'Ankle boot']"
     },
     "metadata": {}
    }
   ]
  },
  {
   "cell_type": "markdown",
   "source": [
    "### Dataset Classes with Indices"
   ],
   "metadata": {}
  },
  {
   "cell_type": "code",
   "source": [
    "class_to_idx = train_data.class_to_idx\n",
    "class_to_idx"
   ],
   "metadata": {
    "execution": {
     "iopub.status.busy": "2023-09-22T04:34:04.310922Z",
     "iopub.execute_input": "2023-09-22T04:34:04.311223Z",
     "iopub.status.idle": "2023-09-22T04:34:04.321427Z",
     "shell.execute_reply.started": "2023-09-22T04:34:04.311194Z",
     "shell.execute_reply": "2023-09-22T04:34:04.320426Z"
    },
    "trusted": true
   },
   "execution_count": 7,
   "outputs": [
    {
     "execution_count": 7,
     "output_type": "execute_result",
     "data": {
      "text/plain": "{'T-shirt/top': 0,\n 'Trouser': 1,\n 'Pullover': 2,\n 'Dress': 3,\n 'Coat': 4,\n 'Sandal': 5,\n 'Shirt': 6,\n 'Sneaker': 7,\n 'Bag': 8,\n 'Ankle boot': 9}"
     },
     "metadata": {}
    }
   ]
  },
  {
   "cell_type": "markdown",
   "source": [
    "### Sample Image Shape and Label"
   ],
   "metadata": {}
  },
  {
   "cell_type": "code",
   "source": [
    "img, label = train_data[0]\n",
    "img.shape, label"
   ],
   "metadata": {
    "execution": {
     "iopub.status.busy": "2023-09-22T04:34:04.322936Z",
     "iopub.execute_input": "2023-09-22T04:34:04.323268Z",
     "iopub.status.idle": "2023-09-22T04:34:04.350265Z",
     "shell.execute_reply.started": "2023-09-22T04:34:04.323239Z",
     "shell.execute_reply": "2023-09-22T04:34:04.349407Z"
    },
    "trusted": true
   },
   "execution_count": 8,
   "outputs": [
    {
     "execution_count": 8,
     "output_type": "execute_result",
     "data": {
      "text/plain": "(torch.Size([1, 28, 28]), 9)"
     },
     "metadata": {}
    }
   ]
  },
  {
   "cell_type": "markdown",
   "source": [
    "# Data Visualization"
   ],
   "metadata": {}
  },
  {
   "cell_type": "code",
   "source": [
    "plt.imshow(img.permute(1,2,0))\n",
    "plt.title(class_names[label])\n",
    "plt.axis('off')"
   ],
   "metadata": {
    "execution": {
     "iopub.status.busy": "2023-09-22T04:34:04.351659Z",
     "iopub.execute_input": "2023-09-22T04:34:04.351996Z",
     "iopub.status.idle": "2023-09-22T04:34:04.557693Z",
     "shell.execute_reply.started": "2023-09-22T04:34:04.351967Z",
     "shell.execute_reply": "2023-09-22T04:34:04.556828Z"
    },
    "trusted": true
   },
   "execution_count": 9,
   "outputs": [
    {
     "execution_count": 9,
     "output_type": "execute_result",
     "data": {
      "text/plain": "(-0.5, 27.5, 27.5, -0.5)"
     },
     "metadata": {}
    },
    {
     "output_type": "display_data",
     "data": {
      "text/plain": "<Figure size 640x480 with 1 Axes>",
      "image/png": "[encoded data removed]"
     },
     "metadata": {}
    }
   ]
  },
  {
   "cell_type": "code",
   "source": [
    "fig = plt.figure(figsize=(12, 12))\n",
    "rows, cols = 4, 4\n",
    "for i in range(1, rows * cols + 1):\n",
    "    img, label = train_data[i]\n",
    "    fig.add_subplot(rows, cols, i)\n",
    "    plt.imshow(img.permute(1,2,0))\n",
    "    plt.title(class_names[label])\n",
    "    plt.axis(\"off\")"
   ],
   "metadata": {
    "execution": {
     "iopub.status.busy": "2023-09-22T04:34:04.562242Z",
     "iopub.execute_input": "2023-09-22T04:34:04.562550Z",
     "iopub.status.idle": "2023-09-22T04:34:05.940425Z",
     "shell.execute_reply.started": "2023-09-22T04:34:04.562526Z",
     "shell.execute_reply": "2023-09-22T04:34:05.939522Z"
    },
    "trusted": true
   },
   "execution_count": 10,
   "outputs": [
    {
     "output_type": "display_data",
     "data": {
      "text/plain": "<Figure size 1200x1200 with 16 Axes>",
      "image/png": "[encoded data removed]"
     },
     "metadata": {}
    }
   ]
  },
  {
   "cell_type": "markdown",
   "source": [
    "# Data Preparation"
   ],
   "metadata": {}
  },
  {
   "cell_type": "code",
   "source": [
    "BATCH_SIZE = 32\n",
    "\n",
    "train_loader = DataLoader(train_data, batch_size=BATCH_SIZE, shuffle=True)\n",
    "\n",
    "test_loader = DataLoader(test_data, batch_size=BATCH_SIZE, shuffle=False)\n",
    "\n",
    "len(train_loader), len(test_loader)"
   ],
   "metadata": {
    "execution": {
     "iopub.status.busy": "2023-09-22T04:34:05.941569Z",
     "iopub.execute_input": "2023-09-22T04:34:05.941846Z",
     "iopub.status.idle": "2023-09-22T04:34:05.954248Z",
     "shell.execute_reply.started": "2023-09-22T04:34:05.941823Z",
     "shell.execute_reply": "2023-09-22T04:34:05.953343Z"
    },
    "trusted": true
   },
   "execution_count": 11,
   "outputs": [
    {
     "execution_count": 11,
     "output_type": "execute_result",
     "data": {
      "text/plain": "(1875, 313)"
     },
     "metadata": {}
    }
   ]
  },
  {
   "cell_type": "code",
   "source": [
    "train_features_batch, train_labels_batch = next(iter(train_loader))\n",
    "train_features_batch.shape, train_labels_batch.shape"
   ],
   "metadata": {
    "execution": {
     "iopub.status.busy": "2023-09-22T04:34:05.955772Z",
     "iopub.execute_input": "2023-09-22T04:34:05.956381Z",
     "iopub.status.idle": "2023-09-22T04:34:06.011967Z",
     "shell.execute_reply.started": "2023-09-22T04:34:05.956348Z",
     "shell.execute_reply": "2023-09-22T04:34:06.010928Z"
    },
    "trusted": true
   },
   "execution_count": 12,
   "outputs": [
    {
     "execution_count": 12,
     "output_type": "execute_result",
     "data": {
      "text/plain": "(torch.Size([32, 1, 28, 28]), torch.Size([32]))"
     },
     "metadata": {}
    }
   ]
  },
  {
   "cell_type": "code",
   "source": [
    "rand_idx = torch.randint(0, len(train_features_batch), size=[1]).item()\n",
    "img, label = train_features_batch[rand_idx], train_labels_batch[rand_idx]\n",
    "plt.imshow(img.permute(1,2,0))\n",
    "plt.title(class_names[label])\n",
    "plt.axis(\"off\")\n",
    "print(f\"Image shape: {img.shape}\")\n",
    "print(f\"Label: {class_names[label]}\")"
   ],
   "metadata": {
    "execution": {
     "iopub.status.busy": "2023-09-22T04:34:06.013659Z",
     "iopub.execute_input": "2023-09-22T04:34:06.014024Z",
     "iopub.status.idle": "2023-09-22T04:34:06.194692Z",
     "shell.execute_reply.started": "2023-09-22T04:34:06.013991Z",
     "shell.execute_reply": "2023-09-22T04:34:06.193747Z"
    },
    "trusted": true
   },
   "execution_count": 13,
   "outputs": [
    {
     "name": "stdout",
     "text": "Image shape: torch.Size([1, 28, 28])\nLabel: Sandal\n",
     "output_type": "stream"
    },
    {
     "output_type": "display_data",
     "data": {
      "text/plain": "<Figure size 640x480 with 1 Axes>",
      "image/png": "[encoded data removed]"
     },
     "metadata": {}
    }
   ]
  },
  {
   "cell_type": "markdown",
   "source": [
    "# VGG16 Model Architecture\n",
    "> Architecture as per https://blog.paperspace.com/vgg-from-scratch-pytorch/"
   ],
   "metadata": {}
  },
  {
   "cell_type": "code",
   "source": [
    "class VGG16(nn.Module):\n",
    "    \"\"\"\n",
    "        Implementation of VGG16 architecture.\n",
    "        \n",
    "        Args:\n",
    "            num_classes (int): Specify number of classes for multi-class classification task.\n",
    "            \n",
    "        Returns:\n",
    "            Training loss, Training accuracy, Testing loss, Testing accuracy, Total training time.\n",
    "    \"\"\"\n",
    "    def __init__(self, num_classes=10):\n",
    "        super().__init__()\n",
    "        self.layer1 = nn.Sequential(\n",
    "            nn.Conv2d(3, 64, kernel_size=3, stride=1, padding=1),\n",
    "            nn.BatchNorm2d(64),\n",
    "            nn.ReLU())\n",
    "        self.layer2 = nn.Sequential(\n",
    "            nn.Conv2d(64, 64, kernel_size=3, stride=1, padding=1),\n",
    "            nn.BatchNorm2d(64),\n",
    "            nn.ReLU(), \n",
    "            nn.MaxPool2d(kernel_size = 2, stride = 2))\n",
    "        self.layer3 = nn.Sequential(\n",
    "            nn.Conv2d(64, 128, kernel_size=3, stride=1, padding=1),\n",
    "            nn.BatchNorm2d(128),\n",
    "            nn.ReLU())\n",
    "        self.layer4 = nn.Sequential(\n",
    "            nn.Conv2d(128, 128, kernel_size=3, stride=1, padding=1),\n",
    "            nn.BatchNorm2d(128),\n",
    "            nn.ReLU(),\n",
    "            nn.MaxPool2d(kernel_size = 2, stride = 2))\n",
    "        self.layer5 = nn.Sequential(\n",
    "            nn.Conv2d(128, 256, kernel_size=3, stride=1, padding=1),\n",
    "            nn.BatchNorm2d(256),\n",
    "            nn.ReLU())\n",
    "        self.layer6 = nn.Sequential(\n",
    "            nn.Conv2d(256, 256, kernel_size=3, stride=1, padding=1),\n",
    "            nn.BatchNorm2d(256),\n",
    "            nn.ReLU())\n",
    "        self.layer7 = nn.Sequential(\n",
    "            nn.Conv2d(256, 256, kernel_size=3, stride=1, padding=1),\n",
    "            nn.BatchNorm2d(256),\n",
    "            nn.ReLU(),\n",
    "            nn.MaxPool2d(kernel_size = 2, stride = 2))\n",
    "        self.layer8 = nn.Sequential(\n",
    "            nn.Conv2d(256, 512, kernel_size=3, stride=1, padding=1),\n",
    "            nn.BatchNorm2d(512),\n",
    "            nn.ReLU())\n",
    "        self.layer9 = nn.Sequential(\n",
    "            nn.Conv2d(512, 512, kernel_size=3, stride=1, padding=1),\n",
    "            nn.BatchNorm2d(512),\n",
    "            nn.ReLU())\n",
    "        self.layer10 = nn.Sequential(\n",
    "            nn.Conv2d(512, 512, kernel_size=3, stride=1, padding=1),\n",
    "            nn.BatchNorm2d(512),\n",
    "            nn.ReLU(),\n",
    "            nn.MaxPool2d(kernel_size = 2, stride = 2))\n",
    "        self.layer11 = nn.Sequential(\n",
    "            nn.Conv2d(512, 512, kernel_size=3, stride=1, padding=1),\n",
    "            nn.BatchNorm2d(512),\n",
    "            nn.ReLU())\n",
    "        self.layer12 = nn.Sequential(\n",
    "            nn.Conv2d(512, 512, kernel_size=3, stride=1, padding=1),\n",
    "            nn.BatchNorm2d(512),\n",
    "            nn.ReLU())\n",
    "        self.layer13 = nn.Sequential(\n",
    "            nn.Conv2d(512, 512, kernel_size=3, stride=1, padding=1),\n",
    "            nn.BatchNorm2d(512),\n",
    "            nn.ReLU(),\n",
    "            nn.MaxPool2d(kernel_size = 2, stride = 2))\n",
    "        self.fc = nn.Sequential(\n",
    "            nn.Dropout(0.5),\n",
    "            nn.Linear(7*7*512, 4096),\n",
    "            nn.ReLU())\n",
    "        self.fc1 = nn.Sequential(\n",
    "            nn.Dropout(0.5),\n",
    "            nn.Linear(4096, 4096),\n",
    "            nn.ReLU())\n",
    "        self.fc2= nn.Sequential(\n",
    "            nn.Linear(4096, num_classes))\n",
    "        \n",
    "    def forward(self, x):\n",
    "        out = self.layer1(x)\n",
    "        out = self.layer2(out)\n",
    "        out = self.layer3(out)\n",
    "        out = self.layer4(out)\n",
    "        out = self.layer5(out)\n",
    "        out = self.layer6(out)\n",
    "        out = self.layer7(out)\n",
    "        out = self.layer8(out)\n",
    "        out = self.layer9(out)\n",
    "        out = self.layer10(out)\n",
    "        out = self.layer11(out)\n",
    "        out = self.layer12(out)\n",
    "        out = self.layer13(out)\n",
    "        out = out.reshape(out.size(0), -1)\n",
    "        out = self.fc(out)\n",
    "        out = self.fc1(out)\n",
    "        out = self.fc2(out)\n",
    "        return out"
   ],
   "metadata": {
    "execution": {
     "iopub.status.busy": "2023-09-22T04:34:06.197032Z",
     "iopub.execute_input": "2023-09-22T04:34:06.197388Z",
     "iopub.status.idle": "2023-09-22T04:34:06.221638Z",
     "shell.execute_reply.started": "2023-09-22T04:34:06.197356Z",
     "shell.execute_reply": "2023-09-22T04:34:06.217770Z"
    },
    "trusted": true
   },
   "execution_count": 14,
   "outputs": []
  },
  {
   "cell_type": "code",
   "source": [
    "vgg16 = VGG16(num_classes=100)\n",
    "summary(vgg16, input_size=(32,3,224,224),col_names=['input_size','output_size','num_params','trainable'],col_width=25)"
   ],
   "metadata": {
    "execution": {
     "iopub.status.busy": "2023-09-22T04:34:06.223072Z",
     "iopub.execute_input": "2023-09-22T04:34:06.225524Z",
     "iopub.status.idle": "2023-09-22T04:34:16.809155Z",
     "shell.execute_reply.started": "2023-09-22T04:34:06.225490Z",
     "shell.execute_reply": "2023-09-22T04:34:16.808234Z"
    },
    "trusted": true
   },
   "execution_count": 15,
   "outputs": [
    {
     "execution_count": 15,
     "output_type": "execute_result",
     "data": {
      "text/plain": "============================================================================================================================================\nLayer (type:depth-idx)                   Input Shape               Output Shape              Param #                   Trainable\n============================================================================================================================================\nVGG16                                    [32, 3, 224, 224]         [32, 100]                 --                        True\n├─Sequential: 1-1                        [32, 3, 224, 224]         [32, 64, 224, 224]        --                        True\n│    └─Conv2d: 2-1                       [32, 3, 224, 224]         [32, 64, 224, 224]        1,792                     True\n│    └─BatchNorm2d: 2-2                  [32, 64, 224, 224]        [32, 64, 224, 224]        128                       True\n│    └─ReLU: 2-3                         [32, 64, 224, 224]        [32, 64, 224, 224]        --                        --\n├─Sequential: 1-2                        [32, 64, 224, 224]        [32, 64, 112, 112]        --                        True\n│    └─Conv2d: 2-4                       [32, 64, 224, 224]        [32, 64, 224, 224]        36,928                    True\n│    └─BatchNorm2d: 2-5                  [32, 64, 224, 224]        [32, 64, 224, 224]        128                       True\n│    └─ReLU: 2-6                         [32, 64, 224, 224]        [32, 64, 224, 224]        --                        --\n│    └─MaxPool2d: 2-7                    [32, 64, 224, 224]        [32, 64, 112, 112]        --                        --\n├─Sequential: 1-3                        [32, 64, 112, 112]        [32, 128, 112, 112]       --                        True\n│    └─Conv2d: 2-8                       [32, 64, 112, 112]        [32, 128, 112, 112]       73,856                    True\n│    └─BatchNorm2d: 2-9                  [32, 128, 112, 112]       [32, 128, 112, 112]       256                       True\n│    └─ReLU: 2-10                        [32, 128, 112, 112]       [32, 128, 112, 112]       --                        --\n├─Sequential: 1-4                        [32, 128, 112, 112]       [32, 128, 56, 56]         --                        True\n│    └─Conv2d: 2-11                      [32, 128, 112, 112]       [32, 128, 112, 112]       147,584                   True\n│    └─BatchNorm2d: 2-12                 [32, 128, 112, 112]       [32, 128, 112, 112]       256                       True\n│    └─ReLU: 2-13                        [32, 128, 112, 112]       [32, 128, 112, 112]       --                        --\n│    └─MaxPool2d: 2-14                   [32, 128, 112, 112]       [32, 128, 56, 56]         --                        --\n├─Sequential: 1-5                        [32, 128, 56, 56]         [32, 256, 56, 56]         --                        True\n│    └─Conv2d: 2-15                      [32, 128, 56, 56]         [32, 256, 56, 56]         295,168                   True\n│    └─BatchNorm2d: 2-16                 [32, 256, 56, 56]         [32, 256, 56, 56]         512                       True\n│    └─ReLU: 2-17                        [32, 256, 56, 56]         [32, 256, 56, 56]         --                        --\n├─Sequential: 1-6                        [32, 256, 56, 56]         [32, 256, 56, 56]         --                        True\n│    └─Conv2d: 2-18                      [32, 256, 56, 56]         [32, 256, 56, 56]         590,080                   True\n│    └─BatchNorm2d: 2-19                 [32, 256, 56, 56]         [32, 256, 56, 56]         512                       True\n│    └─ReLU: 2-20                        [32, 256, 56, 56]         [32, 256, 56, 56]         --                        --\n├─Sequential: 1-7                        [32, 256, 56, 56]         [32, 256, 28, 28]         --                        True\n│    └─Conv2d: 2-21                      [32, 256, 56, 56]         [32, 256, 56, 56]         590,080                   True\n│    └─BatchNorm2d: 2-22                 [32, 256, 56, 56]         [32, 256, 56, 56]         512                       True\n│    └─ReLU: 2-23                        [32, 256, 56, 56]         [32, 256, 56, 56]         --                        --\n│    └─MaxPool2d: 2-24                   [32, 256, 56, 56]         [32, 256, 28, 28]         --                        --\n├─Sequential: 1-8                        [32, 256, 28, 28]         [32, 512, 28, 28]         --                        True\n│    └─Conv2d: 2-25                      [32, 256, 28, 28]         [32, 512, 28, 28]         1,180,160                 True\n│    └─BatchNorm2d: 2-26                 [32, 512, 28, 28]         [32, 512, 28, 28]         1,024                     True\n│    └─ReLU: 2-27                        [32, 512, 28, 28]         [32, 512, 28, 28]         --                        --\n├─Sequential: 1-9                        [32, 512, 28, 28]         [32, 512, 28, 28]         --                        True\n│    └─Conv2d: 2-28                      [32, 512, 28, 28]         [32, 512, 28, 28]         2,359,808                 True\n│    └─BatchNorm2d: 2-29                 [32, 512, 28, 28]         [32, 512, 28, 28]         1,024                     True\n│    └─ReLU: 2-30                        [32, 512, 28, 28]         [32, 512, 28, 28]         --                        --\n├─Sequential: 1-10                       [32, 512, 28, 28]         [32, 512, 14, 14]         --                        True\n│    └─Conv2d: 2-31                      [32, 512, 28, 28]         [32, 512, 28, 28]         2,359,808                 True\n│    └─BatchNorm2d: 2-32                 [32, 512, 28, 28]         [32, 512, 28, 28]         1,024                     True\n│    └─ReLU: 2-33                        [32, 512, 28, 28]         [32, 512, 28, 28]         --                        --\n│    └─MaxPool2d: 2-34                   [32, 512, 28, 28]         [32, 512, 14, 14]         --                        --\n├─Sequential: 1-11                       [32, 512, 14, 14]         [32, 512, 14, 14]         --                        True\n│    └─Conv2d: 2-35                      [32, 512, 14, 14]         [32, 512, 14, 14]         2,359,808                 True\n│    └─BatchNorm2d: 2-36                 [32, 512, 14, 14]         [32, 512, 14, 14]         1,024                     True\n│    └─ReLU: 2-37                        [32, 512, 14, 14]         [32, 512, 14, 14]         --                        --\n├─Sequential: 1-12                       [32, 512, 14, 14]         [32, 512, 14, 14]         --                        True\n│    └─Conv2d: 2-38                      [32, 512, 14, 14]         [32, 512, 14, 14]         2,359,808                 True\n│    └─BatchNorm2d: 2-39                 [32, 512, 14, 14]         [32, 512, 14, 14]         1,024                     True\n│    └─ReLU: 2-40                        [32, 512, 14, 14]         [32, 512, 14, 14]         --                        --\n├─Sequential: 1-13                       [32, 512, 14, 14]         [32, 512, 7, 7]           --                        True\n│    └─Conv2d: 2-41                      [32, 512, 14, 14]         [32, 512, 14, 14]         2,359,808                 True\n│    └─BatchNorm2d: 2-42                 [32, 512, 14, 14]         [32, 512, 14, 14]         1,024                     True\n│    └─ReLU: 2-43                        [32, 512, 14, 14]         [32, 512, 14, 14]         --                        --\n│    └─MaxPool2d: 2-44                   [32, 512, 14, 14]         [32, 512, 7, 7]           --                        --\n├─Sequential: 1-14                       [32, 25088]               [32, 4096]                --                        True\n│    └─Dropout: 2-45                     [32, 25088]               [32, 25088]               --                        --\n│    └─Linear: 2-46                      [32, 25088]               [32, 4096]                102,764,544               True\n│    └─ReLU: 2-47                        [32, 4096]                [32, 4096]                --                        --\n├─Sequential: 1-15                       [32, 4096]                [32, 4096]                --                        True\n│    └─Dropout: 2-48                     [32, 4096]                [32, 4096]                --                        --\n│    └─Linear: 2-49                      [32, 4096]                [32, 4096]                16,781,312                True\n│    └─ReLU: 2-50                        [32, 4096]                [32, 4096]                --                        --\n├─Sequential: 1-16                       [32, 4096]                [32, 100]                 --                        True\n│    └─Linear: 2-51                      [32, 4096]                [32, 100]                 409,700                   True\n============================================================================================================================================\nTotal params: 134,678,692\nTrainable params: 134,678,692\nNon-trainable params: 0\nTotal mult-adds (G): 495.36\n============================================================================================================================================\nInput size (MB): 19.27\nForward/backward pass size (MB): 6938.45\nParams size (MB): 538.71\nEstimated Total Size (MB): 7496.44\n============================================================================================================================================"
     },
     "metadata": {}
    }
   ]
  },
  {
   "cell_type": "markdown",
   "source": [
    "# tinyVGG Architecture\n",
    "#### Since the original VGG16 model is very expensive to train, both in terms of time and compute, we will experiment on a smaller model of the same architecture.\n",
    "> Architecture as per: https://poloclub.github.io/cnn-explainer/"
   ],
   "metadata": {}
  },
  {
   "cell_type": "code",
   "source": [
    "class tinyVGG(nn.Module):\n",
    "    \"\"\"Implementation of tinyVGG model.\n",
    "        \n",
    "        Args:\n",
    "            input_shape - Input tensor shape.\n",
    "            hidden_units - Number of units for the intermediate convolution layers.\n",
    "            output_shape - Output tensor shape.\n",
    "    \"\"\"    \n",
    "    def __init__(self, input_shape: int, hidden_units: int, output_shape: int):\n",
    "        super().__init__()\n",
    "        self.conv_block_1 = nn.Sequential(\n",
    "            nn.Conv2d(in_channels=input_shape,\n",
    "                      out_channels=hidden_units,\n",
    "                      kernel_size=3,\n",
    "                      stride=1,\n",
    "                      padding=1),\n",
    "            nn.ReLU(),\n",
    "            nn.Conv2d(in_channels=hidden_units,\n",
    "                      out_channels=hidden_units,\n",
    "                      kernel_size=3,\n",
    "                      stride=1,\n",
    "                      padding=1),\n",
    "            nn.BatchNorm2d(hidden_units),\n",
    "            nn.ReLU(),\n",
    "            nn.MaxPool2d(kernel_size=2)\n",
    "        )\n",
    "        self.conv_block_2 = nn.Sequential(\n",
    "            nn.Conv2d(in_channels=hidden_units,\n",
    "                      out_channels=hidden_units,\n",
    "                      kernel_size=3,\n",
    "                      stride=1,\n",
    "                      padding=1),\n",
    "            nn.ReLU(),\n",
    "            nn.Conv2d(in_channels=hidden_units,\n",
    "                      out_channels=hidden_units,\n",
    "                      kernel_size=3,\n",
    "                      stride=1,\n",
    "                      padding=1),\n",
    "            nn.BatchNorm2d(hidden_units),\n",
    "            nn.ReLU(),\n",
    "            nn.MaxPool2d(kernel_size=2)\n",
    "        )\n",
    "        self.classifier = nn.Sequential(\n",
    "            nn.Flatten(),\n",
    "            nn.Linear(in_features=hidden_units*7*7,\n",
    "                      out_features=output_shape)\n",
    "        )\n",
    "\n",
    "    def forward(self, x):\n",
    "        x = self.conv_block_1(x)\n",
    "        x = self.conv_block_2(x)\n",
    "        x = self.classifier(x)\n",
    "        return x"
   ],
   "metadata": {
    "execution": {
     "iopub.status.busy": "2023-09-22T04:34:16.810699Z",
     "iopub.execute_input": "2023-09-22T04:34:16.811284Z",
     "iopub.status.idle": "2023-09-22T04:34:16.821648Z",
     "shell.execute_reply.started": "2023-09-22T04:34:16.811252Z",
     "shell.execute_reply": "2023-09-22T04:34:16.820693Z"
    },
    "trusted": true
   },
   "execution_count": 16,
   "outputs": []
  },
  {
   "cell_type": "code",
   "source": [
    "tinyvgg = tinyVGG(input_shape=1,\n",
    "                 hidden_units=32,\n",
    "                 output_shape=len(class_names))\n",
    "summary(tinyvgg, input_size=(32,1,28,28),col_names=['input_size','output_size','num_params','trainable'],col_width=25)"
   ],
   "metadata": {
    "execution": {
     "iopub.status.busy": "2023-09-22T04:34:16.824291Z",
     "iopub.execute_input": "2023-09-22T04:34:16.824696Z",
     "iopub.status.idle": "2023-09-22T04:34:16.856175Z",
     "shell.execute_reply.started": "2023-09-22T04:34:16.824664Z",
     "shell.execute_reply": "2023-09-22T04:34:16.855353Z"
    },
    "trusted": true
   },
   "execution_count": 17,
   "outputs": [
    {
     "execution_count": 17,
     "output_type": "execute_result",
     "data": {
      "text/plain": "============================================================================================================================================\nLayer (type:depth-idx)                   Input Shape               Output Shape              Param #                   Trainable\n============================================================================================================================================\ntinyVGG                                  [32, 1, 28, 28]           [32, 10]                  --                        True\n├─Sequential: 1-1                        [32, 1, 28, 28]           [32, 32, 14, 14]          --                        True\n│    └─Conv2d: 2-1                       [32, 1, 28, 28]           [32, 32, 28, 28]          320                       True\n│    └─ReLU: 2-2                         [32, 32, 28, 28]          [32, 32, 28, 28]          --                        --\n│    └─Conv2d: 2-3                       [32, 32, 28, 28]          [32, 32, 28, 28]          9,248                     True\n│    └─BatchNorm2d: 2-4                  [32, 32, 28, 28]          [32, 32, 28, 28]          64                        True\n│    └─ReLU: 2-5                         [32, 32, 28, 28]          [32, 32, 28, 28]          --                        --\n│    └─MaxPool2d: 2-6                    [32, 32, 28, 28]          [32, 32, 14, 14]          --                        --\n├─Sequential: 1-2                        [32, 32, 14, 14]          [32, 32, 7, 7]            --                        True\n│    └─Conv2d: 2-7                       [32, 32, 14, 14]          [32, 32, 14, 14]          9,248                     True\n│    └─ReLU: 2-8                         [32, 32, 14, 14]          [32, 32, 14, 14]          --                        --\n│    └─Conv2d: 2-9                       [32, 32, 14, 14]          [32, 32, 14, 14]          9,248                     True\n│    └─BatchNorm2d: 2-10                 [32, 32, 14, 14]          [32, 32, 14, 14]          64                        True\n│    └─ReLU: 2-11                        [32, 32, 14, 14]          [32, 32, 14, 14]          --                        --\n│    └─MaxPool2d: 2-12                   [32, 32, 14, 14]          [32, 32, 7, 7]            --                        --\n├─Sequential: 1-3                        [32, 32, 7, 7]            [32, 10]                  --                        True\n│    └─Flatten: 2-13                     [32, 32, 7, 7]            [32, 1568]                --                        --\n│    └─Linear: 2-14                      [32, 1568]                [32, 10]                  15,690                    True\n============================================================================================================================================\nTotal params: 43,882\nTrainable params: 43,882\nNon-trainable params: 0\nTotal mult-adds (M): 356.56\n============================================================================================================================================\nInput size (MB): 0.10\nForward/backward pass size (MB): 24.09\nParams size (MB): 0.18\nEstimated Total Size (MB): 24.36\n============================================================================================================================================"
     },
     "metadata": {}
    }
   ]
  },
  {
   "cell_type": "markdown",
   "source": [
    "# Model Training"
   ],
   "metadata": {}
  },
  {
   "cell_type": "markdown",
   "source": [
    "### Model Train Time Function"
   ],
   "metadata": {}
  },
  {
   "cell_type": "code",
   "source": [
    "def print_train_time(start, end, device=None):\n",
    "    \"\"\"Prints difference between start and end time.\n",
    "\n",
    "    Args:\n",
    "        start (float): Start time of computation (preferred in timeit format).\n",
    "        end (float): End time of computation.\n",
    "        device ([type], optional): Device that compute is running on. Defaults to None.\n",
    "\n",
    "    Returns:\n",
    "        float: time between start and end in seconds (higher is longer).\n",
    "    \"\"\"\n",
    "    total_time = end - start\n",
    "    print(f\"\\nTrain time on {device}: {total_time:.3f} seconds\")\n",
    "    return total_time"
   ],
   "metadata": {
    "execution": {
     "iopub.status.busy": "2023-09-22T04:34:16.857342Z",
     "iopub.execute_input": "2023-09-22T04:34:16.857682Z",
     "iopub.status.idle": "2023-09-22T04:34:16.862829Z",
     "shell.execute_reply.started": "2023-09-22T04:34:16.857651Z",
     "shell.execute_reply": "2023-09-22T04:34:16.862004Z"
    },
    "trusted": true
   },
   "execution_count": 18,
   "outputs": []
  },
  {
   "cell_type": "markdown",
   "source": [
    "### Model Accuracy Function"
   ],
   "metadata": {}
  },
  {
   "cell_type": "code",
   "source": [
    "def accuracy_fn(y_true, y_pred):\n",
    "    \"\"\"Calculates accuracy between truth labels and predictions.\n",
    "\n",
    "    Args:\n",
    "        y_true (torch.Tensor): Truth labels for predictions.\n",
    "        y_pred (torch.Tensor): Predictions to be compared to predictions.\n",
    "\n",
    "    Returns:\n",
    "        [torch.float]: Accuracy value between y_true and y_pred, e.g. 78.45\n",
    "    \"\"\"\n",
    "    correct = torch.eq(y_true, y_pred).sum().item()\n",
    "    acc = (correct / len(y_pred)) * 100\n",
    "    return acc"
   ],
   "metadata": {
    "execution": {
     "iopub.status.busy": "2023-09-22T04:34:16.864081Z",
     "iopub.execute_input": "2023-09-22T04:34:16.865048Z",
     "iopub.status.idle": "2023-09-22T04:34:16.874492Z",
     "shell.execute_reply.started": "2023-09-22T04:34:16.865017Z",
     "shell.execute_reply": "2023-09-22T04:34:16.873610Z"
    },
    "trusted": true
   },
   "execution_count": 19,
   "outputs": []
  },
  {
   "cell_type": "markdown",
   "source": [
    "### Train and Test Step Functions"
   ],
   "metadata": {}
  },
  {
   "cell_type": "code",
   "source": [
    "device = \"cuda\" if torch.cuda.is_available() else \"cpu\""
   ],
   "metadata": {
    "execution": {
     "iopub.status.busy": "2023-09-22T04:34:16.875879Z",
     "iopub.execute_input": "2023-09-22T04:34:16.876230Z",
     "iopub.status.idle": "2023-09-22T04:34:16.884995Z",
     "shell.execute_reply.started": "2023-09-22T04:34:16.876201Z",
     "shell.execute_reply": "2023-09-22T04:34:16.883973Z"
    },
    "trusted": true
   },
   "execution_count": 20,
   "outputs": []
  },
  {
   "cell_type": "code",
   "source": [
    "def train_step(\n",
    "    model: torch.nn.Module,\n",
    "    data_loader: torch.utils.data.DataLoader,\n",
    "    loss_fn: torch.nn.Module,\n",
    "    optimizer: torch.optim.Optimizer,\n",
    "    accuracy_fn,\n",
    "    device: torch.device = device):\n",
    "    \"\"\"Performs a single step of training.\n",
    "    \n",
    "        Args:\n",
    "            model: PyTorch model to train.\n",
    "            data_loader: DataLoader object to load train/ test image data.\n",
    "            loss_fn: Loss function to train model on.\n",
    "            optimizer: Optimizer to update model weights and biases.\n",
    "            accuracy_fn: Calculates model accuracy, either train/test.\n",
    "            device: Device (CPU/GPU/TPU)\n",
    "            \n",
    "        Returns:\n",
    "            Training loss, Training accuracy.\n",
    "    \"\"\"\n",
    "    # Initialize training loss and accuracy\n",
    "    train_loss, train_acc = 0, 0\n",
    "    \n",
    "    # Set model to 'train' mode.\n",
    "    model.train()\n",
    "    \n",
    "    # Iterate through DataLoader\n",
    "    for batch, (X, y) in enumerate(data_loader):\n",
    "        \n",
    "        # Send data to device\n",
    "        X, y = X.to(device), y.to(device)\n",
    "        \n",
    "        # Get predictions from model\n",
    "        y_pred = model(X)\n",
    "        \n",
    "        # Compute model loss and accuracy\n",
    "        loss = loss_fn(y_pred, y)\n",
    "        acc = accuracy_fn(y, y_pred.argmax(dim=1))\n",
    "        \n",
    "        # Accumulate training loss and accuracy\n",
    "        train_loss += loss\n",
    "        train_acc += acc\n",
    "        \n",
    "        # Backpropagation\n",
    "        optimizer.zero_grad()\n",
    "        loss.backward()\n",
    "        optimizer.step()\n",
    "        \n",
    "    # Compute average training loss and accuracy\n",
    "    train_loss /= len(data_loader)\n",
    "    train_acc /= len(data_loader)\n",
    "    \n",
    "    print(f'Train loss: {train_loss:.4f} | Train accuracy: {train_acc:.4f}')"
   ],
   "metadata": {
    "execution": {
     "iopub.status.busy": "2023-09-22T04:34:16.888170Z",
     "iopub.execute_input": "2023-09-22T04:34:16.888453Z",
     "iopub.status.idle": "2023-09-22T04:34:16.899049Z",
     "shell.execute_reply.started": "2023-09-22T04:34:16.888431Z",
     "shell.execute_reply": "2023-09-22T04:34:16.898167Z"
    },
    "trusted": true
   },
   "execution_count": 21,
   "outputs": []
  },
  {
   "cell_type": "code",
   "source": [
    "def test_step(\n",
    "    model: torch.nn.Module,\n",
    "    data_loader: torch.utils.data.DataLoader,\n",
    "    loss_fn: torch.nn.Module,\n",
    "    accuracy_fn,\n",
    "    device: torch.device = device):\n",
    "    \"\"\"Performs a single step of testing.\n",
    "    \n",
    "        Args:\n",
    "            model: PyTorch model to test.\n",
    "            data_loader: DataLoader object to load train/ test image data.\n",
    "            loss_fn: Loss function to test model on.\n",
    "            accuracy_fn: Calculates model accuracy, either train/test.\n",
    "            device: Device (CPU/GPU/TPU)\n",
    "            \n",
    "        Returns:\n",
    "            Testing loss, Testing accuracy.\n",
    "    \"\"\"\n",
    "    # Initialize testing loss and accuracy\n",
    "    test_loss, test_acc = 0, 0\n",
    "    \n",
    "    # Set model to 'evaluation' mode\n",
    "    model.eval()\n",
    "    \n",
    "    # Using torch.inference_mode() to ensure zero gradients, compute testing loss and accuracy\n",
    "    with torch.inference_mode():\n",
    "        # Iterate through DataLoader\n",
    "        for batch, (X, y) in enumerate(data_loader):\n",
    "            \n",
    "            # Send data to device\n",
    "            X, y = X.to(device), y.to(device)\n",
    "            \n",
    "            # Get predictions from model\n",
    "            y_pred = model(X)\n",
    "            \n",
    "            # Compute model loss and accuracy\n",
    "            loss = loss_fn(y_pred, y)\n",
    "            acc = accuracy_fn(y, y_pred.argmax(dim=1))\n",
    "            \n",
    "            # Accumulate testing loss and accuracy\n",
    "            test_loss += loss\n",
    "            test_acc += acc\n",
    "            \n",
    "        # Compute average testing loss and accuracy\n",
    "        test_loss /= len(data_loader)\n",
    "        test_acc /= len(data_loader)\n",
    "        \n",
    "    print(f'Test loss: {test_loss:.4f} | Test accuracy: {test_acc:.4f}')"
   ],
   "metadata": {
    "execution": {
     "iopub.status.busy": "2023-09-22T04:34:16.900464Z",
     "iopub.execute_input": "2023-09-22T04:34:16.900788Z",
     "iopub.status.idle": "2023-09-22T04:34:16.914152Z",
     "shell.execute_reply.started": "2023-09-22T04:34:16.900758Z",
     "shell.execute_reply": "2023-09-22T04:34:16.913208Z"
    },
    "trusted": true
   },
   "execution_count": 22,
   "outputs": []
  },
  {
   "cell_type": "markdown",
   "source": [
    "### Train Model Function"
   ],
   "metadata": {}
  },
  {
   "cell_type": "code",
   "source": [
    "def train_model(\n",
    "    model: torch.nn.Module,\n",
    "    train_loader: torch.utils.data.DataLoader,\n",
    "    test_loader: torch.utils.data.DataLoader,\n",
    "    loss_fn: torch.nn.Module,\n",
    "    optimizer: torch.optim.Optimizer,\n",
    "    accuracy_fn,\n",
    "    epochs: int = 10,\n",
    "    device: torch.device = device):\n",
    "    \"\"\"Trains a model for specified number of epochs.\n",
    "        \n",
    "        Args:\n",
    "            model: PyTorch model to train.\n",
    "            train_loader: DataLoader object to load training image data.\n",
    "            test_loader: DataLoader object to load testing image data.\n",
    "            loss_fn: Loss function to train model on.\n",
    "            optimizer: Optimizer to update model weights and biases.\n",
    "            accuracy_fn: Calculates model accuracy, either train/test.\n",
    "            epochs: Number of epochs to train model for.\n",
    "            device: Device (CPU/GPU/TPU)\n",
    "            \n",
    "        Returns: \n",
    "            Training loss, Training accuracy, Testing loss, Testing accuracy, Total Training time.\n",
    "    \"\"\"\n",
    "    train_time_start = timer()\n",
    "    for epoch in trange(epochs):\n",
    "        print(f'Epoch: {epoch} \\n -----------------------')\n",
    "        \n",
    "        train_step(model, train_loader, loss_fn, optimizer, accuracy_fn, device)\n",
    "        test_step(model, test_loader, loss_fn, accuracy_fn, device)\n",
    "    \n",
    "    train_time_end = timer()\n",
    "    print_train_time(train_time_start, train_time_end, device=device)"
   ],
   "metadata": {
    "execution": {
     "iopub.status.busy": "2023-09-22T04:34:16.915652Z",
     "iopub.execute_input": "2023-09-22T04:34:16.915989Z",
     "iopub.status.idle": "2023-09-22T04:34:16.929722Z",
     "shell.execute_reply.started": "2023-09-22T04:34:16.915960Z",
     "shell.execute_reply": "2023-09-22T04:34:16.928857Z"
    },
    "trusted": true
   },
   "execution_count": 23,
   "outputs": []
  },
  {
   "cell_type": "markdown",
   "source": [
    "### Training tinyVGG Model\n",
    "> Karpathy constant: https://twitter.com/karpathy/status/801621764144971776"
   ],
   "metadata": {}
  },
  {
   "cell_type": "code",
   "source": [
    "epochs = 7\n",
    "learning_rate = 3e-4  # Karpathy constant\n",
    "num_classes = 100\n",
    "\n",
    "model = tinyVGG(input_shape=1,\n",
    "               hidden_units=32,\n",
    "               output_shape=len(class_names)).to(device)\n",
    "\n",
    "loss_fn = nn.CrossEntropyLoss()\n",
    "optimizer = torch.optim.Adam(model.parameters(), lr=learning_rate)"
   ],
   "metadata": {
    "execution": {
     "iopub.status.busy": "2023-09-22T04:34:16.931052Z",
     "iopub.execute_input": "2023-09-22T04:34:16.931853Z",
     "iopub.status.idle": "2023-09-22T04:34:16.946509Z",
     "shell.execute_reply.started": "2023-09-22T04:34:16.931822Z",
     "shell.execute_reply": "2023-09-22T04:34:16.945664Z"
    },
    "trusted": true
   },
   "execution_count": 24,
   "outputs": []
  },
  {
   "cell_type": "code",
   "source": [
    "train_model(model,\n",
    "           train_loader,\n",
    "           test_loader,\n",
    "           loss_fn,\n",
    "           optimizer,\n",
    "           accuracy_fn,\n",
    "           epochs,\n",
    "           device)"
   ],
   "metadata": {
    "execution": {
     "iopub.status.busy": "2023-09-22T04:34:16.950019Z",
     "iopub.execute_input": "2023-09-22T04:34:16.950271Z",
     "iopub.status.idle": "2023-09-22T04:35:47.924200Z",
     "shell.execute_reply.started": "2023-09-22T04:34:16.950250Z",
     "shell.execute_reply": "2023-09-22T04:35:47.923210Z"
    },
    "trusted": true
   },
   "execution_count": 25,
   "outputs": [
    {
     "output_type": "display_data",
     "data": {
      "text/plain": "  0%|          | 0/7 [00:00<?, ?it/s]",
      "application/vnd.jupyter.widget-view+json": {
       "version_major": 2,
       "version_minor": 0,
       "model_id": "0b619e5a9af447a8a9f2d96bdec81b7a"
      }
     },
     "metadata": {}
    },
    {
     "name": "stdout",
     "text": "Epoch: 0 \n -----------------------\nTrain loss: 0.3888 | Train accuracy: 86.0867\nTest loss: 0.3209 | Test accuracy: 88.1190\nEpoch: 1 \n -----------------------\nTrain loss: 0.2611 | Train accuracy: 90.5717\nTest loss: 0.2720 | Test accuracy: 90.4054\nEpoch: 2 \n -----------------------\nTrain loss: 0.2236 | Train accuracy: 91.8717\nTest loss: 0.2495 | Test accuracy: 90.9145\nEpoch: 3 \n -----------------------\nTrain loss: 0.1987 | Train accuracy: 92.8850\nTest loss: 0.2307 | Test accuracy: 91.7732\nEpoch: 4 \n -----------------------\nTrain loss: 0.1806 | Train accuracy: 93.4317\nTest loss: 0.2326 | Test accuracy: 91.7931\nEpoch: 5 \n -----------------------\nTrain loss: 0.1662 | Train accuracy: 94.1267\nTest loss: 0.2346 | Test accuracy: 91.9529\nEpoch: 6 \n -----------------------\nTrain loss: 0.1515 | Train accuracy: 94.5967\nTest loss: 0.2383 | Test accuracy: 91.8031\n\nTrain time on cuda: 90.966 seconds\n",
     "output_type": "stream"
    }
   ]
  },
  {
   "cell_type": "markdown",
   "source": [
    "# tinyVGG Evaluation\n",
    "- Evaluating model\n",
    "- Making predictions\n",
    "- Plotting Confusion Matrix"
   ],
   "metadata": {}
  },
  {
   "cell_type": "markdown",
   "source": [
    "### Model Evaluation Function"
   ],
   "metadata": {}
  },
  {
   "cell_type": "code",
   "source": [
    "def eval_model(\n",
    "    model: torch.nn.Module,\n",
    "    data_loader: torch.utils.data.DataLoader,\n",
    "    loss_fn: torch.nn.Module,\n",
    "    accuracy_fn,\n",
    "    device: torch.device=device):\n",
    "    \"\"\"Returns a dictionary containing the results of model predictions on data_loader.\n",
    "       \n",
    "       Args:\n",
    "           model: PyTorch model to evaluate.\n",
    "           data_loader: DataLoader object to load testing images.\n",
    "           loss_fn: Loss function to test model on.\n",
    "           accuracy_fn: Calculates model accuracy, either train/test.\n",
    "           device: Device (CPU/GPU/TPU)\n",
    "    \"\"\"\n",
    "    # Initialize loss and accuracy \n",
    "    loss, acc = 0, 0\n",
    "    \n",
    "    # Set model to 'evaluate' mode\n",
    "    model.eval()\n",
    "    \n",
    "    # Compute loss and accuracy with torch.inference_mode() to ensure zero gradients\n",
    "    with torch.inference_mode():\n",
    "        # Iterate through data_loader\n",
    "        for X, y in tqdm(data_loader):\n",
    "            # Send data to device\n",
    "            X, y = X.to(device), y.to(device)\n",
    "            \n",
    "            # Computer model predictions\n",
    "            y_pred = model(X)\n",
    "            \n",
    "            # Compute and accumulate loss and accuracy\n",
    "            loss += loss_fn(y_pred, y)\n",
    "            acc += accuracy_fn(y, y_pred.argmax(dim=1))\n",
    "            \n",
    "        # Compute average loss and accuracy\n",
    "        loss /= len(data_loader)\n",
    "        acc /= len(data_loader)\n",
    "    \n",
    "    return {\n",
    "        'Model name' : model.__class__.__name__,\n",
    "        'Model loss' : loss.item(),\n",
    "        'Model accuracy' : acc\n",
    "    }"
   ],
   "metadata": {
    "execution": {
     "iopub.status.busy": "2023-09-22T04:35:47.925527Z",
     "iopub.execute_input": "2023-09-22T04:35:47.926728Z",
     "iopub.status.idle": "2023-09-22T04:35:47.936519Z",
     "shell.execute_reply.started": "2023-09-22T04:35:47.926691Z",
     "shell.execute_reply": "2023-09-22T04:35:47.935438Z"
    },
    "trusted": true
   },
   "execution_count": 26,
   "outputs": []
  },
  {
   "cell_type": "code",
   "source": [
    "tinyVGG_results = eval_model(model, test_loader, loss_fn, accuracy_fn)\n",
    "tinyVGG_results"
   ],
   "metadata": {
    "execution": {
     "iopub.status.busy": "2023-09-22T04:35:47.937794Z",
     "iopub.execute_input": "2023-09-22T04:35:47.938644Z",
     "iopub.status.idle": "2023-09-22T04:35:49.257225Z",
     "shell.execute_reply.started": "2023-09-22T04:35:47.938611Z",
     "shell.execute_reply": "2023-09-22T04:35:49.255173Z"
    },
    "trusted": true
   },
   "execution_count": 27,
   "outputs": [
    {
     "output_type": "display_data",
     "data": {
      "text/plain": "  0%|          | 0/313 [00:00<?, ?it/s]",
      "application/vnd.jupyter.widget-view+json": {
       "version_major": 2,
       "version_minor": 0,
       "model_id": "f08715db31114541933288b0a3288846"
      }
     },
     "metadata": {}
    },
    {
     "execution_count": 27,
     "output_type": "execute_result",
     "data": {
      "text/plain": "{'Model name': 'tinyVGG',\n 'Model loss': 0.23826374113559723,\n 'Model accuracy': 91.80311501597444}"
     },
     "metadata": {}
    }
   ]
  },
  {
   "cell_type": "markdown",
   "source": [
    "### Model Predictions Function"
   ],
   "metadata": {}
  },
  {
   "cell_type": "code",
   "source": [
    "def make_predictions(\n",
    "    model: torch.nn.Module,\n",
    "    data: list,\n",
    "    device: torch.device=device):\n",
    "    \n",
    "    \"\"\"Returns model's prediction probability tensor.\n",
    "        \n",
    "       Args:\n",
    "           model: PyTorch model to make predictions.\n",
    "           data: Data on which model will make predictions.\n",
    "           device: Device (CPU/GPU/TPU)\n",
    "    \"\"\"\n",
    "    # Initialize prediction probability list\n",
    "    pred_probs = []\n",
    "    \n",
    "    # Set model to 'evaluate' mode\n",
    "    model.eval()\n",
    "    \n",
    "    # Compute model prediction probabilities in torch.inference_mode() to ensure zero gradients\n",
    "    with torch.inference_mode():\n",
    "        # Iterate through data to generate predictions\n",
    "        for sample in data:\n",
    "            \n",
    "            # Reshaping data and sending it to device\n",
    "            sample = torch.unsqueeze(sample, dim=0).to(device)\n",
    "            \n",
    "            # Compute prediction logit from model\n",
    "            pred_logit = model(sample)\n",
    "            \n",
    "            # Compute prediction probability from prediction logit by apply softmax function\n",
    "            pred_prob = torch.softmax(pred_logit.squeeze(), dim=0)\n",
    "            \n",
    "            # Extending list of prediction probabilities\n",
    "            pred_probs.append(pred_prob.cpu())\n",
    "    return torch.stack(pred_probs)"
   ],
   "metadata": {
    "execution": {
     "iopub.status.busy": "2023-09-22T04:35:49.264265Z",
     "iopub.execute_input": "2023-09-22T04:35:49.264673Z",
     "iopub.status.idle": "2023-09-22T04:35:49.274879Z",
     "shell.execute_reply.started": "2023-09-22T04:35:49.264638Z",
     "shell.execute_reply": "2023-09-22T04:35:49.273986Z"
    },
    "trusted": true
   },
   "execution_count": 28,
   "outputs": []
  },
  {
   "cell_type": "markdown",
   "source": [
    "### Compute Model Prediction Probabilities"
   ],
   "metadata": {}
  },
  {
   "cell_type": "code",
   "source": [
    "test_samples = []\n",
    "test_labels = []\n",
    "\n",
    "for sample, label in random.sample(list(test_data),k=9):\n",
    "    test_samples.append(sample)\n",
    "    test_labels.append(label)\n",
    "    \n",
    "pred_probs = make_predictions(model, test_samples)\n",
    "pred_classes = pred_probs.argmax(dim=1)\n",
    "pred_probs, pred_classes"
   ],
   "metadata": {
    "execution": {
     "iopub.status.busy": "2023-09-22T04:35:49.276075Z",
     "iopub.execute_input": "2023-09-22T04:35:49.276843Z",
     "iopub.status.idle": "2023-09-22T04:35:50.357123Z",
     "shell.execute_reply.started": "2023-09-22T04:35:49.276810Z",
     "shell.execute_reply": "2023-09-22T04:35:50.356063Z"
    },
    "trusted": true
   },
   "execution_count": 29,
   "outputs": [
    {
     "execution_count": 29,
     "output_type": "execute_result",
     "data": {
      "text/plain": "(tensor([[7.8359e-05, 9.9989e-01, 1.0324e-06, 2.5080e-05, 3.0956e-06, 2.5169e-08,\n          3.9605e-07, 9.2657e-09, 8.8480e-07, 5.4226e-08],\n         [9.5474e-04, 9.9885e-01, 2.8898e-06, 1.9003e-04, 2.0834e-06, 7.5226e-09,\n          4.5220e-06, 5.3463e-09, 1.9010e-07, 1.8198e-08],\n         [8.4306e-01, 1.9838e-07, 7.9229e-02, 4.2066e-03, 3.1173e-03, 1.2754e-09,\n          7.0389e-02, 4.9961e-08, 8.6222e-07, 4.2653e-09],\n         [9.8003e-01, 3.0532e-10, 1.0170e-05, 2.3687e-04, 8.4687e-08, 4.8100e-09,\n          1.9718e-02, 4.3857e-09, 1.1574e-07, 8.6439e-12],\n         [9.9913e-01, 2.8747e-08, 2.4306e-05, 1.5179e-05, 1.8632e-05, 1.0887e-10,\n          8.1133e-04, 1.1031e-09, 3.1090e-06, 1.2017e-12],\n         [8.7978e-09, 2.1385e-15, 2.6524e-11, 2.1440e-11, 9.3721e-12, 1.0000e+00,\n          6.5664e-11, 2.1646e-11, 2.2727e-08, 1.5901e-07],\n         [4.1620e-03, 4.8144e-07, 6.3256e-01, 9.1591e-05, 3.2069e-01, 4.8999e-08,\n          4.2487e-02, 1.4599e-07, 1.2835e-05, 6.7146e-07],\n         [2.1505e-05, 9.9994e-01, 2.2687e-07, 2.0357e-05, 2.0245e-05, 1.5751e-08,\n          3.4874e-07, 1.6632e-08, 2.4433e-07, 4.2720e-08],\n         [3.2020e-04, 9.9943e-01, 9.2541e-07, 2.3552e-04, 1.3379e-05, 1.0088e-07,\n          4.4816e-07, 6.3829e-08, 8.8518e-07, 4.0988e-07]]),\n tensor([1, 1, 0, 0, 0, 5, 2, 1, 1]))"
     },
     "metadata": {}
    }
   ]
  },
  {
   "cell_type": "markdown",
   "source": [
    "### Visualizing Results"
   ],
   "metadata": {}
  },
  {
   "cell_type": "code",
   "source": [
    "plt.figure(figsize=(12,12))\n",
    "nrows = 3\n",
    "ncols = 3\n",
    "for i, sample in enumerate(test_samples):\n",
    "    plt.subplot(nrows, ncols, i+1)\n",
    "    plt.imshow(sample.squeeze())\n",
    "    title_txt = f\"True: {class_names[test_labels[i]]} | Pred: {class_names[pred_classes[i]]}\"\n",
    "    plt.axis(\"off\")\n",
    "    if class_names[pred_classes[i]] == class_names[test_labels[i]]:\n",
    "        plt.title(title_txt,c='g')\n",
    "    else:\n",
    "        plt.title(title_txt,c='r')"
   ],
   "metadata": {
    "execution": {
     "iopub.status.busy": "2023-09-22T04:35:50.358445Z",
     "iopub.execute_input": "2023-09-22T04:35:50.358876Z",
     "iopub.status.idle": "2023-09-22T04:35:51.221075Z",
     "shell.execute_reply.started": "2023-09-22T04:35:50.358844Z",
     "shell.execute_reply": "2023-09-22T04:35:51.219985Z"
    },
    "trusted": true
   },
   "execution_count": 30,
   "outputs": [
    {
     "output_type": "display_data",
     "data": {
      "text/plain": "<Figure size 1200x1200 with 9 Axes>",
      "image/png": "[encoded data removed]"
     },
     "metadata": {}
    }
   ]
  },
  {
   "cell_type": "markdown",
   "source": [
    "### Confusion Matrix"
   ],
   "metadata": {}
  },
  {
   "cell_type": "code",
   "source": [
    "y_preds = []\n",
    "model.eval()\n",
    "with torch.inference_mode():\n",
    "    for X, y in tqdm(test_loader, 'Making predictions...'):\n",
    "        X, y = X.to(device), y.to(device)\n",
    "        y_logit = model(X)\n",
    "        y_pred = torch.softmax(y_logit.squeeze(), dim=0).argmax(dim=1)\n",
    "        \n",
    "        y_preds.append(y_pred.cpu())\n",
    "        \n",
    "y_pred_tensor = torch.cat(y_preds)\n",
    "y_pred_tensor"
   ],
   "metadata": {
    "execution": {
     "iopub.status.busy": "2023-09-22T04:35:51.222485Z",
     "iopub.execute_input": "2023-09-22T04:35:51.222914Z",
     "iopub.status.idle": "2023-09-22T04:35:52.521335Z",
     "shell.execute_reply.started": "2023-09-22T04:35:51.222873Z",
     "shell.execute_reply": "2023-09-22T04:35:52.520329Z"
    },
    "trusted": true
   },
   "execution_count": 31,
   "outputs": [
    {
     "output_type": "display_data",
     "data": {
      "text/plain": "Making predictions...:   0%|          | 0/313 [00:00<?, ?it/s]",
      "application/vnd.jupyter.widget-view+json": {
       "version_major": 2,
       "version_minor": 0,
       "model_id": "5c032036334a4c51874ae9c8117434e6"
      }
     },
     "metadata": {}
    },
    {
     "execution_count": 31,
     "output_type": "execute_result",
     "data": {
      "text/plain": "tensor([9, 2, 1,  ..., 8, 1, 0])"
     },
     "metadata": {}
    }
   ]
  },
  {
   "cell_type": "code",
   "source": [
    "from torchmetrics import ConfusionMatrix\n",
    "from mlxtend.plotting import plot_confusion_matrix\n",
    "\n",
    "confmat = ConfusionMatrix(task='multiclass',num_classes=len(class_names))\n",
    "confmat_tensor = confmat(preds=y_pred_tensor, target=test_data.targets)\n",
    "\n",
    "fig, ax = plot_confusion_matrix(conf_mat=confmat_tensor.numpy(),\n",
    "                                class_names=class_names,\n",
    "                                figsize=(10,7))"
   ],
   "metadata": {
    "execution": {
     "iopub.status.busy": "2023-09-22T04:35:52.522639Z",
     "iopub.execute_input": "2023-09-22T04:35:52.523227Z",
     "iopub.status.idle": "2023-09-22T04:35:53.389593Z",
     "shell.execute_reply.started": "2023-09-22T04:35:52.523194Z",
     "shell.execute_reply": "2023-09-22T04:35:53.388396Z"
    },
    "trusted": true
   },
   "execution_count": 32,
   "outputs": [
    {
     "output_type": "display_data",
     "data": {
      "text/plain": "<Figure size 1000x700 with 1 Axes>",
      "image/png": "[encoded data removed]"
     },
     "metadata": {}
    }
   ]
  },
  {
   "cell_type": "markdown",
   "source": [
    "# Saving Model"
   ],
   "metadata": {}
  },
  {
   "cell_type": "code",
   "source": [
    "MODEL_PATH = Path('models')\n",
    "MODEL_PATH.mkdir(parents=True,exist_ok=True)\n",
    "\n",
    "MODEL_NAME = 'tinyVGG_fashionMNIST.pth'\n",
    "MODEL_SAVE_PATH = MODEL_PATH/MODEL_NAME\n",
    "\n",
    "print(f'Saving model to: {MODEL_SAVE_PATH}')\n",
    "torch.save(model.state_dict(), MODEL_SAVE_PATH)"
   ],
   "metadata": {
    "execution": {
     "iopub.status.busy": "2023-09-22T04:35:53.390985Z",
     "iopub.execute_input": "2023-09-22T04:35:53.391374Z",
     "iopub.status.idle": "2023-09-22T04:35:53.405507Z",
     "shell.execute_reply.started": "2023-09-22T04:35:53.391338Z",
     "shell.execute_reply": "2023-09-22T04:35:53.404298Z"
    },
    "trusted": true
   },
   "execution_count": 33,
   "outputs": [
    {
     "name": "stdout",
     "text": "Saving model to: models/tinyVGG_fashionMNIST.pth\n",
     "output_type": "stream"
    }
   ]
  }
 ]
}
